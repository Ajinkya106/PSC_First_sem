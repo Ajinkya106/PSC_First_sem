{
 "cells": [
  {
   "cell_type": "code",
   "execution_count": 7,
   "id": "d75d624a-e11c-4f16-b624-65080b0526f5",
   "metadata": {},
   "outputs": [],
   "source": [
    "# 01 Try to extract data from index 1 to index 300 with a jump of 3"
   ]
  },
  {
   "cell_type": "code",
   "execution_count": 10,
   "id": "0590b3ac-6771-4eb8-9b57-cc1a6d3f6e3e",
   "metadata": {},
   "outputs": [],
   "source": [
    "s = \"this is My First Python programming class and i am learNING python string and its function\""
   ]
  },
  {
   "cell_type": "code",
   "execution_count": 11,
   "id": "03b032cf-229b-4cbd-8d3e-c2f47a4fa7d5",
   "metadata": {},
   "outputs": [
    {
     "data": {
      "text/plain": [
       "'h   r tnrrmglsnimeNGyosi dtfco'"
      ]
     },
     "execution_count": 11,
     "metadata": {},
     "output_type": "execute_result"
    }
   ],
   "source": [
    "s[1:300:3]"
   ]
  },
  {
   "cell_type": "code",
   "execution_count": 12,
   "id": "f279b25f-807c-43d3-9862-5431654f6a7a",
   "metadata": {},
   "outputs": [],
   "source": [
    "# 02 Try to reverse a string without using reverse function"
   ]
  },
  {
   "cell_type": "code",
   "execution_count": 18,
   "id": "3a7c8695-6936-42f4-a5a8-33644d3ea0a1",
   "metadata": {},
   "outputs": [
    {
     "data": {
      "text/plain": [
       "'noitcnuf sti dna gnirts nohtyp GNINrael ma i dna ssalc gnimmargorp nohtyP tsriF yM si siht'"
      ]
     },
     "execution_count": 18,
     "metadata": {},
     "output_type": "execute_result"
    }
   ],
   "source": [
    "s[::-1]"
   ]
  },
  {
   "cell_type": "code",
   "execution_count": 19,
   "id": "a30344ac-60ff-426a-9772-8578a909437a",
   "metadata": {},
   "outputs": [],
   "source": [
    "# 03 Try to split a string after conversion of entire string in uppercase"
   ]
  },
  {
   "cell_type": "code",
   "execution_count": 22,
   "id": "a515d896-e2f1-4e05-a816-8bc38436ab09",
   "metadata": {},
   "outputs": [
    {
     "data": {
      "text/plain": [
       "['THIS',\n",
       " 'IS',\n",
       " 'MY',\n",
       " 'FIRST',\n",
       " 'PYTHON',\n",
       " 'PROGRAMMING',\n",
       " 'CLASS',\n",
       " 'AND',\n",
       " 'I',\n",
       " 'AM',\n",
       " 'LEARNING',\n",
       " 'PYTHON',\n",
       " 'STRING',\n",
       " 'AND',\n",
       " 'ITS',\n",
       " 'FUNCTION']"
      ]
     },
     "execution_count": 22,
     "metadata": {},
     "output_type": "execute_result"
    }
   ],
   "source": [
    "s1 = s.upper()\n",
    "s1.split()"
   ]
  },
  {
   "cell_type": "code",
   "execution_count": 23,
   "id": "d19b7155-a810-49bf-85ec-a49fc223a697",
   "metadata": {},
   "outputs": [],
   "source": [
    "# 04 Try to convert the whole string into lower case"
   ]
  },
  {
   "cell_type": "code",
   "execution_count": 24,
   "id": "62afc26c-fa1c-4f19-adcf-65141343c99d",
   "metadata": {},
   "outputs": [
    {
     "data": {
      "text/plain": [
       "'this is my first python programming class and i am learning python string and its function'"
      ]
     },
     "execution_count": 24,
     "metadata": {},
     "output_type": "execute_result"
    }
   ],
   "source": [
    "s.lower()"
   ]
  },
  {
   "cell_type": "code",
   "execution_count": 25,
   "id": "bad89bd8-3897-4c1a-bdc5-2eaac489e557",
   "metadata": {},
   "outputs": [],
   "source": [
    "# 05 the Try to capitalize the whole string"
   ]
  },
  {
   "cell_type": "code",
   "execution_count": 26,
   "id": "352d713c-41ff-4627-a874-1062c9aa9f38",
   "metadata": {},
   "outputs": [
    {
     "data": {
      "text/plain": [
       "'This is my first python programming class and i am learning python string and its function'"
      ]
     },
     "execution_count": 26,
     "metadata": {},
     "output_type": "execute_result"
    }
   ],
   "source": [
    "s.capitalize()"
   ]
  },
  {
   "cell_type": "code",
   "execution_count": 31,
   "id": "78861813-fd0d-435d-a2c2-be0f3df970ba",
   "metadata": {},
   "outputs": [],
   "source": [
    "# 06 Write the difference between isalnum() and isalpha()"
   ]
  },
  {
   "cell_type": "code",
   "execution_count": 37,
   "id": "2df6d56d-27b1-47fe-9043-9392d54ecd7d",
   "metadata": {},
   "outputs": [],
   "source": [
    "# isalnum() - This function checks that if all the charecters in the string are alphanumeric if yes it prints True else it prints False.\n",
    "# Note - Spaces in between alphanumeric charecters cause the output of the code to be False.\n",
    "\n",
    "# isalpha() - This function cheks that if all the charecters in the string are alphabets if yes it prints True else it prints False.\n",
    "# Note - Spaces in between alphabet charecters cause the output of the code to be False."
   ]
  },
  {
   "cell_type": "code",
   "execution_count": 38,
   "id": "152180e4-b5ac-439f-b5cf-79b3c1277244",
   "metadata": {},
   "outputs": [],
   "source": [
    "# 07 Try to give an example of expand tab"
   ]
  },
  {
   "cell_type": "code",
   "execution_count": 58,
   "id": "62151ff6-f033-4a9c-bf98-8f70570e3fbd",
   "metadata": {},
   "outputs": [
    {
     "data": {
      "text/plain": [
       "'Hii     there   my      name    is      abhilasha,        nice    to      meet    you     anuja!!'"
      ]
     },
     "execution_count": 58,
     "metadata": {},
     "output_type": "execute_result"
    }
   ],
   "source": [
    "# Example of expand tab function\n",
    "\n",
    "s2 = \"Hii\\tthere\\tmy\\tname\\tis\\tabhilasha,\\tnice\\tto\\tmeet\\tyou\\tanuja!!\"\n",
    "\n",
    "s2.expandtabs()  # By default it is 8 spaces per tab."
   ]
  },
  {
   "cell_type": "code",
   "execution_count": 60,
   "id": "db4ce3b1-849c-4fc9-8367-f74589bf1b86",
   "metadata": {},
   "outputs": [
    {
     "data": {
      "text/plain": [
       "'Hii                 there               my                  name                is                  abhilasha,            nice                to                  meet                you                 anuja!!'"
      ]
     },
     "execution_count": 60,
     "metadata": {},
     "output_type": "execute_result"
    }
   ],
   "source": [
    "# But we can change it to our preference, for example -\n",
    "\n",
    "s2.expandtabs(20)"
   ]
  },
  {
   "cell_type": "code",
   "execution_count": 61,
   "id": "b6685a9b-ab02-415f-84fb-8b23d1b8e1a4",
   "metadata": {},
   "outputs": [],
   "source": [
    "# 08 Give an example of strip, lstrip and rstrip."
   ]
  },
  {
   "cell_type": "code",
   "execution_count": 68,
   "id": "98a49df7-8492-4682-bb31-f798063675d4",
   "metadata": {},
   "outputs": [
    {
     "data": {
      "text/plain": [
       "'Heyy!! Anuja'"
      ]
     },
     "execution_count": 68,
     "metadata": {},
     "output_type": "execute_result"
    }
   ],
   "source": [
    "# 1 - Example of strip:\n",
    "\n",
    "a = \"@@@2@Heyy!! Anuja@2@@@\"\n",
    "\n",
    "a.strip(\"@2\")  # Removes all @2 from both the sides"
   ]
  },
  {
   "cell_type": "code",
   "execution_count": 111,
   "id": "e75ef010-cd4a-4aee-82e6-e7802f44be56",
   "metadata": {},
   "outputs": [
    {
     "data": {
      "text/plain": [
       "'Heyy!! Anuja@2@@@'"
      ]
     },
     "execution_count": 111,
     "metadata": {},
     "output_type": "execute_result"
    }
   ],
   "source": [
    "# 2 - Example of lstrip:\n",
    "\n",
    "a1 = \"@@@22@Heyy!! Anuja@2@@@\"\n",
    "\n",
    "a1.lstrip(\"@2\")  # Removes all @2 only from the left side"
   ]
  },
  {
   "cell_type": "code",
   "execution_count": 112,
   "id": "234fa319-d1e8-42e7-9ae9-5587a1f9b2e7",
   "metadata": {},
   "outputs": [
    {
     "data": {
      "text/plain": [
       "'@@@2@Heyy!! Anuja'"
      ]
     },
     "execution_count": 112,
     "metadata": {},
     "output_type": "execute_result"
    }
   ],
   "source": [
    "# 3 - Example of rstrip\n",
    "\n",
    "a2 = \"@@@2@Heyy!! Anuja@222@@@\"\n",
    "\n",
    "a2.rstrip(\"@2\")  # Removes all @2 only from the right side"
   ]
  },
  {
   "cell_type": "code",
   "execution_count": 77,
   "id": "3ff289a0-c6d1-4670-a4e6-e8dd4dd09261",
   "metadata": {},
   "outputs": [],
   "source": [
    "# 09 Replace a string charecter by another charecter by taking your own example \"your name\""
   ]
  },
  {
   "cell_type": "code",
   "execution_count": 82,
   "id": "c0ffeff5-1d8a-4460-81a5-512ff979fd9a",
   "metadata": {},
   "outputs": [
    {
     "data": {
      "text/plain": [
       "'Anuja'"
      ]
     },
     "execution_count": 82,
     "metadata": {},
     "output_type": "execute_result"
    }
   ],
   "source": [
    "name = \"Abhilasha\"\n",
    "\n",
    "name.replace(\"Abhilasha\", \"Anuja\")"
   ]
  },
  {
   "cell_type": "code",
   "execution_count": 81,
   "id": "6e928995-d725-46db-b60c-3152845418df",
   "metadata": {},
   "outputs": [
    {
     "data": {
      "text/plain": [
       "'Anuilasha'"
      ]
     },
     "execution_count": 81,
     "metadata": {},
     "output_type": "execute_result"
    }
   ],
   "source": [
    "name.replace(\"Abh\",\"Anu\")"
   ]
  },
  {
   "cell_type": "code",
   "execution_count": 83,
   "id": "35dd30be-207c-432d-8b47-717644de13de",
   "metadata": {},
   "outputs": [],
   "source": [
    "# 10 Try to give a definition of string center function with an example."
   ]
  },
  {
   "cell_type": "code",
   "execution_count": 84,
   "id": "746a20b4-6386-470f-85d5-e4500cfc2420",
   "metadata": {},
   "outputs": [],
   "source": [
    "# Definition:\n",
    "\n",
    "# center() function is used to align the string in to the centre by adding Specified characters in both the sides of the string or with space by default,\n",
    "# then the string will have specified width  and if the total width is greater than the length of the string, the extra characters will be added equally \n",
    "# to both sides (or with one extra on either sides if the width is an odd number or string has odd number of charecters)."
   ]
  },
  {
   "cell_type": "code",
   "execution_count": 113,
   "id": "c9bba858-1a08-4018-a0a6-88aa948a8e53",
   "metadata": {},
   "outputs": [
    {
     "data": {
      "text/plain": [
       "'*************************************************************Abhilasha**************************************************************'"
      ]
     },
     "execution_count": 113,
     "metadata": {},
     "output_type": "execute_result"
    }
   ],
   "source": [
    "# Example:\n",
    "\n",
    "b = \"Abhilasha\"\n",
    "\n",
    "b.center(130,\"*\")"
   ]
  },
  {
   "cell_type": "code",
   "execution_count": 114,
   "id": "5f2b1682-a636-4abc-bf91-21b56aac484b",
   "metadata": {},
   "outputs": [
    {
     "data": {
      "text/plain": [
       "'********************************************************Abhilasha*********************************************************'"
      ]
     },
     "execution_count": 114,
     "metadata": {},
     "output_type": "execute_result"
    }
   ],
   "source": [
    "b.center(120,\"*\")"
   ]
  },
  {
   "cell_type": "code",
   "execution_count": 104,
   "id": "ba812115-1d0c-4c46-abbe-b8a33fc34b0a",
   "metadata": {},
   "outputs": [],
   "source": [
    "# 11 Write the definiton of compiler and interpretor in your own words."
   ]
  },
  {
   "cell_type": "code",
   "execution_count": 105,
   "id": "45aa7468-4c6e-4e49-b3a0-0a977a16b4d1",
   "metadata": {},
   "outputs": [],
   "source": [
    "# Compiler - A compiler translates code from a high-level programming language into machine code before the program runs that's why the computer knows only binary \n",
    "           # language. So basicaly compiler converts our code into binary code so that the code gets exicuted by the computer."
   ]
  },
  {
   "cell_type": "code",
   "execution_count": 107,
   "id": "2a7f2db5-69d3-4258-8fc6-2e800af26b7d",
   "metadata": {},
   "outputs": [],
   "source": [
    "# Interpretor - An interpretor translates code written in a high-level programming language into machine code line-by-line as the code runs."
   ]
  },
  {
   "cell_type": "code",
   "execution_count": 108,
   "id": "e07cb80d-2f08-4392-b79c-c0fe0f93edec",
   "metadata": {},
   "outputs": [],
   "source": [
    "# 12 Python is an interpreted of compiled language give clear ans."
   ]
  },
  {
   "cell_type": "code",
   "execution_count": 109,
   "id": "9eed1626-d8dd-4619-a08f-518a94c0b0fe",
   "metadata": {},
   "outputs": [],
   "source": [
    "#  The source code of a Python program is converted into bytecode that is then executed by the Python virtual machine,this happens automatically when you run a Python program and you might not even notice it . This is why Python \n",
    "#  is considered an interpreted language."
   ]
  },
  {
   "cell_type": "code",
   "execution_count": 110,
   "id": "8e1669d0-beae-4030-887f-db729b0c20f7",
   "metadata": {},
   "outputs": [],
   "source": [
    "# 13 Try to write a usecase of python with your understanding."
   ]
  },
  {
   "cell_type": "code",
   "execution_count": null,
   "id": "d46345f1-7803-4b00-a7ed-389aeb2b34f9",
   "metadata": {},
   "outputs": [],
   "source": [
    "# There are many usecases of python such as:\n",
    "\n",
    "# 1. Pyhton is used in Cybersecurity.   \n",
    "# 2. Python is used in Web development.   ( Django, Flask for building websites.)\n",
    "# 3. Python is used in Data analysis and mashin learning.   (Pandas, TensorFlow for data analysis and AI.)\n",
    "# 4. Python is used in Artifitial intelligence (Generative AI).\n",
    "# 5. Python is used in Internet Of Things (IOT).\n",
    "# 6. Python is used in Cloud computing.   ( Automating cloud services)\n",
    "# 7. Python is used in Game development.   (Pygame for game prototyping.)\n",
    "# 8. Python is used in Blockchain development.\n"
   ]
  }
 ],
 "metadata": {
  "kernelspec": {
   "display_name": "Python 3 (ipykernel)",
   "language": "python",
   "name": "python3"
  },
  "language_info": {
   "codemirror_mode": {
    "name": "ipython",
    "version": 3
   },
   "file_extension": ".py",
   "mimetype": "text/x-python",
   "name": "python",
   "nbconvert_exporter": "python",
   "pygments_lexer": "ipython3",
   "version": "3.12.3"
  }
 },
 "nbformat": 4,
 "nbformat_minor": 5
}
